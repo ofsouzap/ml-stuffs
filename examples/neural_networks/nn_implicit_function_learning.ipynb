{
 "cells": [
  {
   "cell_type": "markdown",
   "metadata": {},
   "source": [
    "# Imports and Constants"
   ]
  },
  {
   "cell_type": "code",
   "execution_count": null,
   "metadata": {},
   "outputs": [],
   "source": [
    "import numpy as np\n",
    "import matplotlib.pyplot as plt\n",
    "from PIL import Image\n",
    "\n",
    "from neural_networks.layers import *\n",
    "from neural_networks.networks import *\n",
    "from math_util.vector_functions import sum_of_squares_cost"
   ]
  },
  {
   "cell_type": "code",
   "execution_count": null,
   "metadata": {},
   "outputs": [],
   "source": [
    "LEARNING_RATE_2D = 1e-3\n",
    "SAMPLE_SIZE_2D = 5\n",
    "ITERATION_COUNT_2D = 5_000\n",
    "ORDER_2D = 1_000"
   ]
  },
  {
   "cell_type": "markdown",
   "metadata": {},
   "source": [
    "# 2D Example\n",
    "\n",
    "This example is meant to take an image where white pixels represent the edge of a surface and try to find an implicit function for the surface as described below."
   ]
  },
  {
   "cell_type": "markdown",
   "metadata": {},
   "source": [
    "## Network Creation"
   ]
  },
  {
   "cell_type": "code",
   "execution_count": null,
   "metadata": {},
   "outputs": [],
   "source": [
    "nn_2d = Network([\n",
    "    PolynomialLayer(\n",
    "        2, 1,\n",
    "        learning_rate=LEARNING_RATE_2D,\n",
    "        order=ORDER_2D,\n",
    "    ),\n",
    "])"
   ]
  },
  {
   "cell_type": "markdown",
   "metadata": {},
   "source": [
    "## Setting up the Input\n",
    "\n",
    "I'll use the following image as the basis for the implicit function.\n",
    "\n",
    "![2D Figure](2dfigure.bmp)\n",
    "\n",
    "The red region is the inside region, the blue is the outside region and the white surface is the surface that I want to make an implicit function for.\n",
    "\n",
    "Therefore, I need the network to represent a function, $f: \\mathbb R^2 \\rightarrow \\mathbb R$, such that $f(x,y)=0$ on the surface, $f(x,y)<0$ within the surface and $f(x,y)>0$ outside the surface.\n",
    "\n",
    "I'll train the network for the $f(x,y)=0$ on the surface part but the sign on either side isn't important as I can just take the negative of the function if it's the wrong way round."
   ]
  },
  {
   "cell_type": "code",
   "execution_count": null,
   "metadata": {},
   "outputs": [],
   "source": [
    "_img_pil = Image.open(\"2dfigure.bmp\")\n",
    "img = np.array(_img_pil)\n",
    "del _img_pil\n",
    "\n",
    "img_height, img_width = img.shape[0], img.shape[1]\n",
    "\n",
    "print(img.shape)\n",
    "plt.imshow(img)"
   ]
  },
  {
   "cell_type": "markdown",
   "metadata": {},
   "source": [
    "I need a matrix of the coordinates of each point on the image. I'll normalise these so that they work better in the neural network."
   ]
  },
  {
   "cell_type": "code",
   "execution_count": null,
   "metadata": {},
   "outputs": [],
   "source": [
    "coords = np.dstack(np.meshgrid(\n",
    "    np.linspace(0, 1, img.shape[1]),\n",
    "    np.linspace(0, 1, img.shape[0]),\n",
    ")).transpose((1,0,2))\n",
    "\n",
    "plt.imshow(np.sum(coords, axis=2), cmap=\"gray\")"
   ]
  },
  {
   "cell_type": "markdown",
   "metadata": {},
   "source": [
    "Next, I find the coordinates of the points on the surface of the shape."
   ]
  },
  {
   "cell_type": "code",
   "execution_count": null,
   "metadata": {},
   "outputs": [],
   "source": [
    "img_surface_mask = (img[:,:,0] == 255) & (img[:,:,1] == 255) & (img[:,:,1] == 255)\n",
    "plt.imshow(np.where(\n",
    "    img_surface_mask[:,:,np.newaxis],\n",
    "    np.array([ 255, 255, 255 ]),\n",
    "    np.array([ 0, 0, 0 ]),\n",
    "))\n",
    "\n",
    "img_surface_poss = coords[img_surface_mask]\n",
    "print(img_surface_poss)"
   ]
  },
  {
   "cell_type": "markdown",
   "metadata": {},
   "source": [
    "Now that I have the coordinates for the surface, I'll take a selection of them to model a point cloud.\n",
    "\n",
    "I won't do this randomly for the following reasons:\n",
    "1. The same results can be reproduced on each run of the code\n",
    "2. The points should be quite evenly distributed"
   ]
  },
  {
   "cell_type": "code",
   "execution_count": null,
   "metadata": {},
   "outputs": [],
   "source": [
    "img_point_cloud = img_surface_poss[np.arange(0, img_surface_poss.shape[0], 2)]\n",
    "img_point_cloud.shape[0]"
   ]
  },
  {
   "cell_type": "markdown",
   "metadata": {},
   "source": [
    "## Training the Network\n",
    "\n",
    "Now, I can train the network.\n",
    "\n",
    "During the training process, I'll output the results at different stages to see how long it takes for progress to be made and at what points progress isn't being made."
   ]
  },
  {
   "cell_type": "code",
   "execution_count": null,
   "metadata": {},
   "outputs": [],
   "source": [
    "def nn_2d_outputs_to_img(nn_2d_outputs):\n",
    "    return np.where(\n",
    "        np.isclose(nn_2d_outputs, 0, atol=1e-3),\n",
    "        np.array([ 1.0, 1.0, 1.0 ], dtype=np.float64),\n",
    "        np.where(\n",
    "            nn_2d_outputs < 0,\n",
    "            np.array([ 1.0, 0, 0 ], dtype=np.float64) * np.tanh(np.power(np.abs(nn_2d_outputs), 0.4)),\n",
    "            np.array([ 0, 0, 1.0 ], dtype=np.float64) * np.tanh(np.power(np.abs(nn_2d_outputs), 0.4)),\n",
    "        ),\n",
    "    )\n",
    "\n",
    "learn_X = img_point_cloud\n",
    "learn_Y = np.zeros(shape=(img_point_cloud.shape[0],1))\n",
    "\n",
    "checkpoint_count = 10\n",
    "checkpoints: List = np.linspace(0, ITERATION_COUNT_2D, checkpoint_count, dtype=int).tolist()\n",
    "\n",
    "fig,axes = plt.subplots(checkpoint_count+1,1)\n",
    "fig.set_figwidth(2)\n",
    "fig.set_figheight(2*checkpoint_count)\n",
    "\n",
    "for i, _ in enumerate(nn_2d.learn_stochastic_it(\n",
    "    xs=learn_X,\n",
    "    exps=learn_Y,\n",
    "    cost_func=sum_of_squares_cost,\n",
    "    sample_size=SAMPLE_SIZE_2D,\n",
    "    iteration_count=ITERATION_COUNT_2D,\n",
    "    provide_cost_output=False,\n",
    ")):\n",
    "\n",
    "    if i in checkpoints:\n",
    "        checkpoint_idx = checkpoints.index(i)\n",
    "        pred_X = coords.reshape((img_height*img_width, 2))\n",
    "        nn_2d_outputs = nn_2d.forwards_multi(pred_X).reshape((img_height,img_width,1))\n",
    "        axes[checkpoint_idx].imshow(nn_2d_outputs_to_img(nn_2d_outputs))\n",
    "        axes[checkpoint_idx].set_title(f\"Iteration {i}\")\n",
    "\n",
    "axes[-1].imshow(img)\n",
    "axes[-1].set_title(\"Reference Image\")\n",
    "\n",
    "print(\"Average cost after training: \" + str(np.mean(sum_of_squares_cost.f_multi(\n",
    "    nn_2d.forwards_multi(learn_X),\n",
    "    learn_Y\n",
    "))))\n",
    "\n",
    "fig.tight_layout()\n",
    "plt.show()"
   ]
  }
 ],
 "metadata": {
  "kernelspec": {
   "display_name": ".venv",
   "language": "python",
   "name": "python3"
  },
  "language_info": {
   "codemirror_mode": {
    "name": "ipython",
    "version": 3
   },
   "file_extension": ".py",
   "mimetype": "text/x-python",
   "name": "python",
   "nbconvert_exporter": "python",
   "pygments_lexer": "ipython3",
   "version": "3.10.12"
  }
 },
 "nbformat": 4,
 "nbformat_minor": 2
}
